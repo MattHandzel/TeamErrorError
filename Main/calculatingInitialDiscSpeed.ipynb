{
 "cells": [
  {
   "cell_type": "code",
   "execution_count": 7,
   "metadata": {},
   "outputs": [
    {
     "name": "stdout",
     "output_type": "stream",
     "text": [
      "For a time of 0.43 and power of 30, inital v is 0.8166009333747112\n",
      "For a time of 0.52 and power of 40, inital v is 0.830682962167463\n",
      "For a time of 0.6 and power of 50, inital v is 0.8451408662172472\n",
      "For a time of 0.69 and power of 60, inital v is 0.8633594902804942\n"
     ]
    }
   ],
   "source": [
    "import math\n",
    "ts = [0.43, 0.52, .60, .69]\n",
    "g = -9.8\n",
    "for i, t in enumerate(ts):\n",
    "  sin_t = 0.5299192642332\n",
    "  b = -((sin_t * t) - 25.446)\n",
    "  a = (-31.6615)\n",
    "  c = -(0.3861 - 4.9 * t * t) \n",
    "  det = math.sqrt(b * b - 4 * a * c)\n",
    "  v = (-b - det) / (2 * a)\n",
    "  print(f\"For a time of {t} and power of {i * 10 + 30}, inital v is {v}\")"
   ]
  },
  {
   "cell_type": "code",
   "execution_count": 2,
   "metadata": {},
   "outputs": [
    {
     "name": "stdout",
     "output_type": "stream",
     "text": [
      "For a time of 0.43 and power of 30, inital v is -0.05503906158977267, v per 10 power is -0.0018346353863257557\n",
      "For a time of 0.52 and power of 40, inital v is -0.07506458488855121, v per 10 power is -0.0018766146222137803\n",
      "For a time of 0.6 and power of 50, inital v is -0.09755420484792557, v per 10 power is -0.0019510840969585114\n",
      "For a time of 0.69 and power of 60, inital v is -0.12961627244537374, v per 10 power is -0.0021602712074228958\n"
     ]
    }
   ],
   "source": [
    "import math\n",
    "ts = [0.43, 0.52, .60, .69]\n",
    "g = -9.8\n",
    "for i, t in enumerate(ts):\n",
    "  sin_t = 0.5299192642332\n",
    "  b = (sin_t * t - g * g / 2 * sin_t)\n",
    "  a = (-g/2 * sin_t * sin_t + g * g * g / 8 * sin_t * sin_t)\n",
    "  c = -(0.3861 - g/2 * t * t) \n",
    "  det = math.sqrt(b * b - 4 * a * c)\n",
    "  v = (-b - det) / (2 * a)\n",
    "  print(f\"For a time of {t} and power of {i * 10 + 30}, inital v is {v}, v per 10 power is {v / (i * 10 + 30)}\")"
   ]
  },
  {
   "cell_type": "code",
   "execution_count": 5,
   "metadata": {},
   "outputs": [
    {
     "name": "stdout",
     "output_type": "stream",
     "text": [
      "For a time of 0.43 and power of 30, inital v is 2.2948208331348914, v per 10 power is 0.07649402777116304\n",
      "For a time of 0.52 and power of 40, inital v is 3.418009785679638, v per 10 power is 0.08545024464199094\n",
      "For a time of 0.605 and power of 50, inital v is 4.39930573740798, v per 10 power is 0.0879861147481596\n",
      "For a time of 0.69 and power of 60, inital v is 5.332477604460362, v per 10 power is 0.08887462674100603\n"
     ]
    }
   ],
   "source": [
    "import math\n",
    "ts = [0.43, 0.52, .605, .69]\n",
    "g = -9.8\n",
    "for i, t in enumerate(ts):\n",
    "  v = (-g/2 * t * t - 0.3831) / sin_t / t\n",
    "  print(f\"For a time of {t} and power of {i * 10 + 30}, inital v is {v}, v per 10 power is {v / (i * 10 + 30)}\")\n",
    "\n",
    "# velocity in meters per second is approximately 0.0865 m/s per power"
   ]
  },
  {
   "cell_type": "code",
   "execution_count": 9,
   "metadata": {},
   "outputs": [
    {
     "data": {
      "text/plain": [
       "8.649999999999999"
      ]
     },
     "execution_count": 9,
     "metadata": {},
     "output_type": "execute_result"
    }
   ],
   "source": [
    "0.0865 * 100"
   ]
  },
  {
   "cell_type": "code",
   "execution_count": null,
   "metadata": {},
   "outputs": [],
   "source": [
    "import math\n",
    "ts = [0.43, 0.52, .60, .69]\n",
    "g = -9.8\n",
    "for i, t in enumerate(ts):\n",
    "  sin_t = 0.5299192642332\n",
    "  a = g/2 * (t)\n",
    "  b = (sin_t * t - g * g / 2 * sin_t)\n",
    "  c = -(0.3861 - g/2 * t * t) \n",
    "  det = math.sqrt(b * b - 4 * a * c)\n",
    "  v = (-b - det) / (2 * a)\n",
    "  print(f\"For a time of {t} and power of {i * 10 + 30}, inital v is {v}, v per 10 power is {v / (i * 10 + 30)}\")"
   ]
  },
  {
   "cell_type": "code",
   "execution_count": 86,
   "metadata": {},
   "outputs": [],
   "source": [
    "import matplotlib.pyplot as plt\n",
    "import numpy as np\n",
    "from math import sin, cos, pi, sqrt\n",
    "import math\n",
    "import time\n",
    "global g\n",
    "# Gravity, 10 is used for debugging\n",
    "g = -9.81\n",
    "\n",
    "def getPathOnXYFunction(funcs, delta_t = 0.01):\n",
    "  '''\n",
    "    Funcs - An array of two functions, the first one will return the x component of an objects trajectory at time point t, and the second will return the y component of an objects trajectory at time point t. It will run these function until the object hits the ground.\n",
    "\n",
    "    Returns an array of x positions, y positions, and the time it took to hit the ground\n",
    "  '''\n",
    "\n",
    "  # Get the x and y functions out of the functions array so that we can more intuitively refer to them\n",
    "  xFunc = funcs[0]\n",
    "  yFunc = funcs[1]\n",
    "\n",
    "  # Start off time at delta time (no need to compute the x and y positions at t=0 because we know that it will start on the group)\n",
    "  t = delta_t\n",
    "\n",
    "  # Create an array to store the x and y positions, initialize the array with the x and y positions at the first timestep\n",
    "  x = [xFunc(t)]\n",
    "  y = [yFunc(t)]\n",
    "  \n",
    "  # Run the functions until the y x of the function is less than 0 (the object has hit the ground)\n",
    "  while y[-1] > 0 and x[-1] > 0:\n",
    "    t += delta_t\n",
    "    x.append(xFunc(t))\n",
    "    y.append(yFunc(t))\n",
    "  return x, y, t\n",
    "\n",
    "def returnXYFuncs(theta, v_i):\n",
    "  '''This will return two funcions, for the x and y component of the objects path, depending upon the objects initial launch angle (theta) and initial velocity'''\n",
    "  return returnXFunc(theta, v_i), returnYFunc(theta, v_i)\n",
    "\n",
    "def returnXFunc(theta, v_i):\n",
    "  '''Returns the x component of the objects trajecotry using the following formula'''\n",
    "  return lambda t: cos(theta) * v_i * t\n",
    "\n",
    "def returnYFunc(theta, v_i):\n",
    "  ''' Returns the x component of the objects trajecotry using the following formula.'''\n",
    "  # NOTE: This function is assuming that you live on earth and thus acceleration is gravity\n",
    "  return lambda t: (1/2 * g * t * t + sin(theta) * v_i * t)\n",
    "\n",
    "def calculateRequiredInitialVelocityToPassThroughAPoint(coords):\n",
    "  '''\n",
    "  This is a function that I derived in order to calculate the required initial velocity for an object to pass through a point.\n",
    "  The formula for this equation is:\n",
    "\n",
    "         ______________________________________________\n",
    "         |         ____________________________________\n",
    "   v_i = |-2gy + __|((2gy)^2 - (4 * -(g^2 * x^2)))\n",
    "         |----------------------------------------------\n",
    "       __|                      2\n",
    "\n",
    "  '''\n",
    "  x = coords[0]\n",
    "  y = coords[1]\n",
    "\n",
    "  w = 2 * g * y\n",
    "  q = - g * g * x * x\n",
    "\n",
    "  squareRoot = sqrt((w * w) - (4 * q))\n",
    "  expression = (-w + squareRoot)/2\n",
    "\n",
    "  return (sqrt(expression))\n",
    "\n",
    "def getThetaForPathToHitPoint(v_i, point, sizeOfPoint = 0.05):\n",
    "  '''This function, when given the initial velocity required, will output the angle needed to shoot at.\n",
    "    point - point we want to hit\n",
    "    sizeOfPoint - the tolerance at which we can hit the point, at extereme initial velocities, this needs to be very high\n",
    "  '''\n",
    "  theta = 0\n",
    "  go = True\n",
    "  iterations = 0\n",
    "  minimum_distance = 0\n",
    "\n",
    "  # How this works is that it plots the trajectory of the object at changing angles of being shot, and it returns the correct angle once it is hit. This can be optimized by a hell of a lot and there is probably a mathetmatical formula that you can use to get the correct point in like 2 milliseconds buuuuuuut I already made a very good formula before that used a lot of brain power and Winter break was almost over so I settled on this solution, if I need to run this formula on a system that actually shoots things and is very time sensitive, then I will fix this, but otherwise there isn't a need to fix it. \n",
    "  while go:\n",
    "    new_theta_1 = theta + (pi / 4) * 2 ** (-iterations)\n",
    "    new_theta_2 = theta - (pi / 4) * 2 ** (-iterations)\n",
    "\n",
    "    # Run a simulation for both new theta angles\n",
    "\n",
    "    _x, _y, _t = getPathOnXYFunction(returnXYFuncs(new_theta_1, v_i))\n",
    "    minimum_distance_theta_1 = float('inf')\n",
    "\n",
    "    # Find the point that is the closest to the point we want to hit\n",
    "    for x, y in zip(_x, _y):\n",
    "      distance = sqrt((x - point[0])**2 + (y - point[1])**2)\n",
    "      minimum_distance_theta_1 = min(minimum_distance_theta_1, distance)\n",
    "    \n",
    "    _x, _y, _t = getPathOnXYFunction(returnXYFuncs(new_theta_2, v_i))\n",
    "    minimum_distance_theta_2 = float('inf')\n",
    "\n",
    "    # Find the point that is the closest to the point we want to hit\n",
    "    for x, y in zip(_x, _y):\n",
    "      distance = sqrt((x - point[0])**2 + (y - point[1])**2)\n",
    "      minimum_distance_theta_2 = min(minimum_distance_theta_2, distance)\n",
    "    \n",
    "    # If the new theta angles are closer to the point we want to hit, then we will use those angles\n",
    "    if minimum_distance_theta_1 < minimum_distance_theta_2:\n",
    "      minimum_distance = minimum_distance_theta_1\n",
    "      theta = new_theta_1\n",
    "    else:\n",
    "      minimum_distance = minimum_distance_theta_2\n",
    "      theta = new_theta_2\n",
    "\n",
    "    print(\"Minimum distance: \", minimum_distance, \"theta: \", theta)\n",
    "    \n",
    "    # If the point we want to hit is within the tolerance, then we are done\n",
    "    if minimum_distance < sizeOfPoint:\n",
    "      go = False\n",
    "\n",
    "    iterations += 1\n",
    "    if iterations > 50:\n",
    "      print(\"Reached maximimum iterations!\", theta)\n",
    "      go = False\n",
    "\n",
    "  return theta\n",
    "\n",
    "def getViForPathToHitPoint(theta, point, sizeOfPoint = 0.05):\n",
    "  '''This function, when given the initial velocity required, will output the angle needed to shoot at.\n",
    "    point - point we want to hit\n",
    "    sizeOfPoint - the tolerance at which we can hit the point, at extereme initial velocities, this needs to be very high\n",
    "  '''\n",
    "  vi = 0\n",
    "  go = True\n",
    "  iterations = 0\n",
    "  minimum_distance = 0\n",
    "  max_vi = 8.65\n",
    "  delta_time = 0.001\n",
    "  hit_time = 0\n",
    "\n",
    "  # How this works is that it plots the trajectory of the object at changing angles of being shot, and it returns the correct angle once it is hit. This can be optimized by a hell of a lot and there is probably a mathetmatical formula that you can use to get the correct point in like 2 milliseconds buuuuuuut I already made a very good formula before that used a lot of brain power and Winter break was almost over so I settled on this solution, if I need to run this formula on a system that actually shoots things and is very time sensitive, then I will fix this, but otherwise there isn't a need to fix it. \n",
    "  while go:\n",
    "    new_vi_1 = vi + (max_vi / 2) * 2 ** (-iterations)\n",
    "    new_vi_2 = vi - (max_vi / 2) * 2 ** (-iterations)\n",
    "\n",
    "    # Run a simulation for both new vi angles\n",
    "\n",
    "    _x, _y, _t = getPathOnXYFunction(returnXYFuncs(theta, new_vi_1), delta_time)\n",
    "    minimum_distance_vi_1 = float('inf')\n",
    "    \n",
    "    hit_time_vi_1 = 0\n",
    "    \n",
    "    # Find the point that is the closest to the point we want to hit\n",
    "    for x, y in zip(_x, _y):\n",
    "      distance = sqrt((x - point[0])**2 + (y - point[1])**2)\n",
    "      minimum_distance_vi_1 = min(minimum_distance_vi_1, distance)\n",
    "      if minimum_distance_vi_1 == distance:\n",
    "        hit_time_vi_1 = (_x.index(x) + 1) * delta_time\n",
    "    \n",
    "    _x, _y, _t = getPathOnXYFunction(returnXYFuncs(theta, new_vi_2), delta_time)\n",
    "    minimum_distance_vi_2 = float('inf')\n",
    "    hit_time_vi_2 = 0\n",
    "    # Find the point that is the closest to the point we want to hit\n",
    "    for x, y in zip(_x, _y):\n",
    "      distance = sqrt((x - point[0])**2 + (y - point[1])**2)\n",
    "      minimum_distance_vi_2 = min(minimum_distance_vi_2, distance)\n",
    "      if minimum_distance_vi_2 == distance:\n",
    "        hit_time_vi_2 = (_x.index(x) + 1) * delta_time\n",
    "\n",
    "    \n",
    "    # If the new vi angles are closer to the point we want to hit, then we will use those angles\n",
    "    if minimum_distance_vi_1 < minimum_distance_vi_2:\n",
    "      minimum_distance = minimum_distance_vi_1\n",
    "      vi = new_vi_1\n",
    "      hit_time = hit_time_vi_1\n",
    "    else:\n",
    "      minimum_distance = minimum_distance_vi_2\n",
    "      vi = new_vi_2\n",
    "      hit_time = hit_time_vi_2\n",
    "\n",
    "    print(\"Minimum distance: \", minimum_distance, \"vi: \", vi, \"at time\", hit_time)\n",
    "    \n",
    "    # If the point we want to hit is within the tolerance, then we are done\n",
    "    if minimum_distance < sizeOfPoint:\n",
    "      go = False\n",
    "\n",
    "    iterations += 1\n",
    "    if iterations > 20:\n",
    "      print(\"Reached maximimum iterations!\", vi)\n",
    "      go = False\n",
    "\n",
    "  return vi, hit_time\n",
    "      \n",
    "\n",
    "def plotTrajectory(point, theta, v_i, plot = False, sizeOfPoint = 0.1):\n",
    "  '''This function will get the minimum initial velocity and angle at which you need to shoot the object at for a specific point, if you want to plot that then set plot to True.'''\n",
    "  \n",
    "  if plot:\n",
    "    _x, _y, _t = getPathOnXYFunction(returnXYFuncs(theta, v_i))\n",
    "    plt.plot(_x,_y, label = \"Path of Object\")\n",
    "    plt.plot(point[0], point[1], 'ro', label = \"Goal\")\n",
    "    plt.xlabel(\"X Position Of Object (m)\")\n",
    "    plt.ylabel(\"Y Position Of Object (m)\")\n",
    "    plt.title(\"Path of Object Towards A Goal Point\")\n",
    "    plt.legend()\n",
    "  plt.show()\n",
    "  return v_i, theta\n"
   ]
  },
  {
   "cell_type": "code",
   "execution_count": 87,
   "metadata": {},
   "outputs": [
    {
     "name": "stdout",
     "output_type": "stream",
     "text": [
      "(3.6576, 0.254)\n",
      "Minimum distance:  1.903645944487058 vi:  4.325 at time 0.494\n",
      "Minimum distance:  0.04830499698612651 vi:  6.487500000000001 at time 0.676\n",
      "Minimum distance:  0.5297091621675661 vi:  7.5687500000000005 at time 0.605\n",
      "Minimum distance:  0.2604840434041896 vi:  7.028125 at time 0.645\n",
      "Minimum distance:  0.11062274491036928 vi:  6.7578125 at time 0.661\n",
      "Minimum distance:  0.03222143923985792 vi:  6.62265625 at time 0.669\n",
      "Minimum distance:  0.008094437698501468 vi:  6.5550781250000005 at time 0.672\n",
      "Minimum distance:  0.012477993539173041 vi:  6.588867187500001 at time 0.671\n",
      "Minimum distance:  0.00377794811422402 vi:  6.571972656250001 at time 0.672\n",
      "Minimum distance:  0.0027700261709840846 vi:  6.563525390625001 at time 0.672\n",
      "Minimum distance:  0.0017079601917935076 vi:  6.567749023437501 at time 0.672\n",
      "Minimum distance:  0.001811387973025292 vi:  6.5656372070312505 at time 0.672\n",
      "Minimum distance:  0.0016110981268700642 vi:  6.566693115234376 at time 0.672\n",
      "Minimum distance:  0.0016218847334146232 vi:  6.567221069335938 at time 0.672\n",
      "Minimum distance:  0.0016067375344686614 vi:  6.566957092285157 at time 0.672\n",
      "Minimum distance:  0.0016064726290368173 vi:  6.566825103759766 at time 0.672\n",
      "Minimum distance:  0.001605992885517456 vi:  6.566891098022461 at time 0.672\n",
      "Minimum distance:  0.0016060797111628405 vi:  6.566858100891114 at time 0.672\n",
      "Minimum distance:  0.0016059980296064507 vi:  6.566874599456788 at time 0.672\n",
      "Minimum distance:  0.0016059858900764003 vi:  6.566882848739625 at time 0.672\n",
      "Minimum distance:  0.0016059869959249564 vi:  6.5668869733810435 at time 0.672\n",
      "Reached maximimum iterations! 6.5668869733810435\n",
      "75.91776847839357\n"
     ]
    },
    {
     "data": {
      "image/png": "[encoded data removed]",
      "text/plain": [
       "<Figure size 640x480 with 1 Axes>"
      ]
     },
     "metadata": {},
     "output_type": "display_data"
    },
    {
     "name": "stdout",
     "output_type": "stream",
     "text": [
      "3.658499735960257 0.252669710770963\n"
     ]
    }
   ],
   "source": [
    "point = (144 * 2.54 / 100, (25 - 15) * 2.54 / 100)\n",
    "ang = 34 * pi / 180\n",
    "print(point)\n",
    "v_i, hit_time = getViForPathToHitPoint(ang, point, sizeOfPoint = 0.001)\n",
    "print(v_i / 8.65 * 100)\n",
    "plotTrajectory(point, ang, v_i, plot=True)\n",
    "xFunc, yFunc = returnXYFuncs(ang, v_i)\n",
    "print(xFunc(hit_time), yFunc(hit_time))"
   ]
  }
 ],
 "metadata": {
  "kernelspec": {
   "display_name": "Python 3.9.13 ('base')",
   "language": "python",
   "name": "python3"
  },
  "language_info": {
   "codemirror_mode": {
    "name": "ipython",
    "version": 3
   },
   "file_extension": ".py",
   "mimetype": "text/x-python",
   "name": "python",
   "nbconvert_exporter": "python",
   "pygments_lexer": "ipython3",
   "version": "3.9.13"
  },
  "orig_nbformat": 4,
  "vscode": {
   "interpreter": {
    "hash": "ca7f7672912b2bae67cafbba9d5c9b7fdb8786d975b0c8a4970ef0f039c273a1"
   }
  }
 },
 "nbformat": 4,
 "nbformat_minor": 2
}
